{
 "cells": [
  {
   "cell_type": "code",
   "execution_count": null,
   "metadata": {},
   "outputs": [],
   "source": []
  },
  {
   "cell_type": "markdown",
   "metadata": {},
   "source": [
    "## Advertencia\n",
    "Advierte cuando un asteroide se acerque a la Tierra demasiado rápido. La velocidad de cualquie asteroide varía dependiendo de lo cerca que esté del sol, y cualquier velocidad superior a 25 kilómetros por segundo (km/s) merece una advertencia."
   ]
  },
  {
   "cell_type": "code",
   "execution_count": 4,
   "metadata": {},
   "outputs": [
    {
     "name": "stdout",
     "output_type": "stream",
     "text": [
      "¡Advertencia!, Un asteroide se acerca a una velocidad mayor a 25 km/s\n"
     ]
    }
   ],
   "source": [
    "asteroide = 49\n",
    "if asteroide > 25: \n",
    "    print('¡Advertencia!, Un asteroide se acerca a una velocidad mayor a 25 km/s')\n",
    "\n",
    "else: \n",
    "    print('Sin problemas detectados por el momento :D') "
   ]
  },
  {
   "cell_type": "markdown",
   "metadata": {},
   "source": [
    "## Advertencia 2\n",
    "\n",
    "Si un asteroide entra en la atmósfera de la Tierra a una velocidad mayor o igual a 20 km/s, a veces produce un rayo de luz que se puede ver desde la Tierra. Advierte a las personas de todo el mundo que deben buscar un asteroide en el cielo. ¡Hay uno que se dirige a la tierra ahora a una velocidad de 19 km/s!\n"
   ]
  },
  {
   "cell_type": "code",
   "execution_count": 5,
   "metadata": {},
   "outputs": [
    {
     "name": "stdout",
     "output_type": "stream",
     "text": [
      "En el cielo solo hay nubes\n"
     ]
    }
   ],
   "source": [
    "asteroide = 19\n",
    "if asteroide > 20:\n",
    "    print('¡Mira el show en el cielo!')\n",
    "\n",
    "elif asteroide == 20:\n",
    "    print('¡Mira el show en el cielo!')\n",
    "\n",
    "else:\n",
    "    print('En el cielo solo hay nubes')"
   ]
  },
  {
   "cell_type": "markdown",
   "metadata": {},
   "source": [
    "## Advertencia \n",
    "\n",
    "Elabora una advertencia con mas información y más matizada sobre cuándo los asteroides representan un peligro para la Tierra, y utilizarás esa información para mejorar nuestro sistema de advertencia: \n",
    "\n",
    "-Los asteroides de menos de 25 metros en su dimensión se quemarán a medida que entren en la atmósfera de la Tierra.\n",
    "\n",
    "-Si un asteroide que es más grande de 25 metros pero más pequeño de 1000 metros golpeara la Tierra, causaría mucho daño.\n",
    "\n",
    "-La velocidad del asteroide varía en función de lo cerca que esté del sol, y cualquier velocidad superior a 25 kilómetros por segundo (km/s) merece una advertencia.\n",
    "\n",
    "-Si un asteroide entra en la atmósfera de la Tierra a una velocidad mayor o igual a 20 km/s, a veces produce un rayo de luz que se puede ver desde la Tierra."
   ]
  },
  {
   "cell_type": "code",
   "execution_count": 2,
   "metadata": {},
   "outputs": [
    {
     "name": "stdout",
     "output_type": "stream",
     "text": [
      "¡Mira el show en el cielo!\n"
     ]
    }
   ],
   "source": [
    "dimension_asteroide: 68\n",
    "velocidad_asteroide = 25\n",
    "\n",
    "if velocidad_asteroide > 25 and dimension_asteroide > 25:\n",
    "    print('!Alerta¡ Un asteroide impactara a la Tierra pronto, ¡Busca un refugio!')\n",
    "\n",
    "elif velocidad_asteroide >= 20:\n",
    "    print('¡Mira el show en el cielo!')\n",
    "\n",
    "elif dimension_asteroide < 25: \n",
    "     print('En el cielo solo hay nubes')\n",
    "\n",
    "else: print('En el cielo solo hay nubes')"
   ]
  }
 ],
 "metadata": {
  "interpreter": {
   "hash": "b9cceceafbae3d8850f9b602a59f343a3b627f02f0a6e7adf433b1aa84a6029d"
  },
  "kernelspec": {
   "display_name": "Python 3.10.2 64-bit",
   "language": "python",
   "name": "python3"
  },
  "language_info": {
   "codemirror_mode": {
    "name": "ipython",
    "version": 3
   },
   "file_extension": ".py",
   "mimetype": "text/x-python",
   "name": "python",
   "nbconvert_exporter": "python",
   "pygments_lexer": "ipython3",
   "version": "3.10.2"
  },
  "orig_nbformat": 4
 },
 "nbformat": 4,
 "nbformat_minor": 2
}
