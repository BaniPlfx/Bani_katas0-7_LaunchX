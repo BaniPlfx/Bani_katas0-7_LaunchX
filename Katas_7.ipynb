{
 "cells": [
  {
   "cell_type": "code",
   "execution_count": null,
   "metadata": {},
   "outputs": [],
   "source": []
  },
  {
   "cell_type": "markdown",
   "metadata": {},
   "source": [
    "## Uso de ciclos while en Python y creación de un ciclo \"for\"\n"
   ]
  },
  {
   "cell_type": "code",
   "execution_count": null,
   "metadata": {},
   "outputs": [],
   "source": [
    "#Lo que el usuario ingrese\n",
    "new_planet = ''\n",
    "#Lista de planetas\n",
    "planets = []\n",
    "#Mientras lo que el usuario ingrese (se convierte en minusculas) sea diferente a 'listo'\n",
    "while new_planet.lower() != 'listo':\n",
    "#Se ejecutará el if\n",
    "    if new_planet:\n",
    "        planets.append(new_planet)\n",
    "    new_planet = input('Ingresa el nombre de uno o varios planetas con enter, cuando acabes escribes listo')\n",
    "#Lo que el usuario ingrese (new_planet) se anexará (.append) a la lista de planetas (planets)\n",
    "for planet in planets:\n",
    "    print(planet)\n"
   ]
  }
 ],
 "metadata": {
  "interpreter": {
   "hash": "b9cceceafbae3d8850f9b602a59f343a3b627f02f0a6e7adf433b1aa84a6029d"
  },
  "kernelspec": {
   "display_name": "Python 3.10.2 64-bit",
   "language": "python",
   "name": "python3"
  },
  "language_info": {
   "codemirror_mode": {
    "name": "ipython",
    "version": 3
   },
   "file_extension": ".py",
   "mimetype": "text/x-python",
   "name": "python",
   "nbconvert_exporter": "python",
   "pygments_lexer": "ipython3",
   "version": "3.10.2"
  },
  "orig_nbformat": 4
 },
 "nbformat": 4,
 "nbformat_minor": 2
}
